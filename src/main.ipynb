{
 "cells": [
  {
   "cell_type": "code",
   "execution_count": 1,
   "id": "9902d2f5",
   "metadata": {},
   "outputs": [
    {
     "name": "stderr",
     "output_type": "stream",
     "text": [
      "/Users/carlodenardin/miniconda3/envs/vae-compare/lib/python3.11/site-packages/tqdm/auto.py:21: TqdmWarning: IProgress not found. Please update jupyter and ipywidgets. See https://ipywidgets.readthedocs.io/en/stable/user_install.html\n",
      "  from .autonotebook import tqdm as notebook_tqdm\n"
     ]
    }
   ],
   "source": [
    "import torch\n",
    "import os\n",
    "import pytorch_lightning as pl\n",
    "\n",
    "from pytorch_lightning.loggers import TensorBoardLogger\n",
    "from vae import DisentangleVAE\n",
    "from dataset import CelebADataModule"
   ]
  },
  {
   "cell_type": "code",
   "execution_count": 2,
   "id": "4c5fc855",
   "metadata": {},
   "outputs": [],
   "source": [
    "RESULTS_DIR = '../results'\n",
    "DATA_DIR = '../data'\n",
    "\n",
    "IMG_SIZE = 64\n",
    "NB_CHANNELS = 3\n",
    "Z_DIM = 64\n",
    "BETA = 1\n",
    "BATCH_SIZE = 16\n",
    "LEARNING_RATE = 1e-4\n",
    "EPOCHS = 100"
   ]
  },
  {
   "cell_type": "code",
   "execution_count": null,
   "id": "772b5f77",
   "metadata": {},
   "outputs": [
    {
     "name": "stderr",
     "output_type": "stream",
     "text": [
      "Downloading...\n",
      "From (original): https://drive.google.com/uc?id=0B7EVK8r0v71pZjFTYXZWM3FlRnM\n",
      "From (redirected): https://drive.usercontent.google.com/download?id=0B7EVK8r0v71pZjFTYXZWM3FlRnM&confirm=t&uuid=e7fecddf-ffa9-4b1b-87a8-576867cfcd21\n",
      "To: /Users/carlodenardin/university/PML2025/data/celeba/img_align_celeba.zip\n",
      "100%|██████████| 1.44G/1.44G [00:43<00:00, 33.0MB/s]\n",
      "Downloading...\n",
      "From: https://drive.google.com/uc?id=0B7EVK8r0v71pblRyaVFSWGxPY0U\n",
      "To: /Users/carlodenardin/university/PML2025/data/celeba/list_attr_celeba.txt\n",
      "100%|██████████| 26.7M/26.7M [00:01<00:00, 17.7MB/s]\n",
      "Downloading...\n",
      "From: https://drive.google.com/uc?id=1_ee_0u7vcNLOfNLegJRHmolfH5ICW-XS\n",
      "To: /Users/carlodenardin/university/PML2025/data/celeba/identity_CelebA.txt\n",
      "100%|██████████| 3.42M/3.42M [00:00<00:00, 15.2MB/s]\n",
      "Downloading...\n",
      "From: https://drive.google.com/uc?id=0B7EVK8r0v71pbThiMVRxWXZ4dU0\n",
      "To: /Users/carlodenardin/university/PML2025/data/celeba/list_bbox_celeba.txt\n",
      "100%|██████████| 6.08M/6.08M [00:00<00:00, 17.7MB/s]\n",
      "Downloading...\n",
      "From: https://drive.google.com/uc?id=0B7EVK8r0v71pd0FJY3Blby1HUTQ\n",
      "To: /Users/carlodenardin/university/PML2025/data/celeba/list_landmarks_align_celeba.txt\n",
      "100%|██████████| 12.2M/12.2M [00:00<00:00, 26.4MB/s]\n",
      "Downloading...\n",
      "From: https://drive.google.com/uc?id=0B7EVK8r0v71pY0NSMzRuSXJEVkk\n",
      "To: /Users/carlodenardin/university/PML2025/data/celeba/list_eval_partition.txt\n",
      "100%|██████████| 2.84M/2.84M [00:00<00:00, 13.3MB/s]\n"
     ]
    }
   ],
   "source": [
    "celeba_dm = CelebADataModule(\n",
    "    data_dir = DATA_DIR,\n",
    "    img_size = IMG_SIZE,\n",
    "    batch_size = BATCH_SIZE\n",
    ")\n",
    "celeba_dm.prepare_data()\n",
    "celeba_dm.setup()   "
   ]
  },
  {
   "cell_type": "code",
   "execution_count": null,
   "id": "08164837",
   "metadata": {},
   "outputs": [],
   "source": [
    "VAE = DisentangleVAE(\n",
    "    img_size = IMG_SIZE,\n",
    "    nb_channels = NB_CHANNELS,\n",
    "    z_dim = Z_DIM,\n",
    "    beta = BETA,\n",
    "    learning_rate = LEARNING_RATE\n",
    ")"
   ]
  },
  {
   "cell_type": "code",
   "execution_count": null,
   "id": "dbad0513",
   "metadata": {},
   "outputs": [],
   "source": [
    "logger = TensorBoardLogger('../tb_logs', name='disentangle_vae')\n",
    "\n",
    "checkpooint_callback = pl.callbacks.ModelCheckpoint(\n",
    "    dirpath=os.path.join(RESULTS_DIR, 'checkpoints'),\n",
    "    filename='disentangle_vae-{epoch:02d}-{val_loss:.2f}',\n",
    "    monitor='val_loss',\n",
    "    mode='min',\n",
    "    save_top_k=1\n",
    ")"
   ]
  }
 ],
 "metadata": {
  "kernelspec": {
   "display_name": "vae-compare",
   "language": "python",
   "name": "python3"
  },
  "language_info": {
   "codemirror_mode": {
    "name": "ipython",
    "version": 3
   },
   "file_extension": ".py",
   "mimetype": "text/x-python",
   "name": "python",
   "nbconvert_exporter": "python",
   "pygments_lexer": "ipython3",
   "version": "3.11.11"
  }
 },
 "nbformat": 4,
 "nbformat_minor": 5
}
